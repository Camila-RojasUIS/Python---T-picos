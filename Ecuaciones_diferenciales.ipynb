{
  "nbformat": 4,
  "nbformat_minor": 0,
  "metadata": {
    "colab": {
      "provenance": [],
      "authorship_tag": "ABX9TyMQWrd1xKuzoq38QPT1LBlQ",
      "include_colab_link": true
    },
    "kernelspec": {
      "name": "python3",
      "display_name": "Python 3"
    },
    "language_info": {
      "name": "python"
    }
  },
  "cells": [
    {
      "cell_type": "markdown",
      "metadata": {
        "id": "view-in-github",
        "colab_type": "text"
      },
      "source": [
        "<a href=\"https://colab.research.google.com/github/Camila-RojasUIS/Python---T-picos/blob/main/Ecuaciones_diferenciales.ipynb\" target=\"_parent\"><img src=\"https://colab.research.google.com/assets/colab-badge.svg\" alt=\"Open In Colab\"/></a>"
      ]
    },
    {
      "cell_type": "markdown",
      "source": [
        "# SOLUCIÓN PUNTO 10 DEL TALLER DE TRANSFORMADA DE LAPLACE"
      ],
      "metadata": {
        "id": "L-NEpjNVX3BA"
      }
    },
    {
      "cell_type": "markdown",
      "source": [
        "![ECD.png](data:image/png;base64,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)"
      ],
      "metadata": {
        "id": "8F9Kxf0qWcPR"
      }
    },
    {
      "cell_type": "code",
      "execution_count": 14,
      "metadata": {
        "id": "-KDkFjrJPwm7"
      },
      "outputs": [],
      "source": [
        "from sympy import *\n",
        "from IPython.display import Markdown as md\n",
        "t, x, s = symbols('t x s')\n"
      ]
    },
    {
      "cell_type": "markdown",
      "source": [
        "\n",
        "\n",
        "1.   **Importaciones:** Se importan todos los módulos de sympy (una biblioteca de matemáticas simbólicas en Python) y Markdown de IPython.display.\n",
        "2.   **Definición de símbolos:** Se definen las variables simbólicas \"t\", \"x\" y \"s\".\n",
        "\n"
      ],
      "metadata": {
        "id": "AHOUyN7CY_tt"
      }
    },
    {
      "cell_type": "code",
      "source": [
        "a, b, c, itera = sin(t), exp(t), cos(t), 7\n",
        "sera = series(a, t, 0, itera).removeO()\n",
        "serb = series(b, t, 0, itera).removeO()\n",
        "serc = series(c, t, 0, itera).removeO()"
      ],
      "metadata": {
        "id": "ES09-Y6GT9sf"
      },
      "execution_count": 15,
      "outputs": []
    },
    {
      "cell_type": "markdown",
      "source": [
        "\n",
        "\n",
        "1.   **Definición de funciones:** \"a\" se define como $sin(t)$, \"b\" se define como ($e^{t}$) y \"c\" se define como $cos(t)$\n",
        "2.   **Cálculo de series de Taylor:**\n",
        "\n",
        "\n",
        "*  \"sera\" calcula la serie de Taylor de $sin(t)$ alrededor de t = 0 hasta el término de orden \"itera\" (en este caso, 7)\n",
        "*   \"serb\"calcula la serie de Taylor de ($e^{t}$) de manera similar.\n",
        "*   \"serc\"calcula la serie de Taylor de $cos(t)$\n",
        "\n",
        "La función \"remove()\" se utiliza para eliminar el término de O($t^{itera}$) de la expansión en series, que denota los términos de orden superior.\n",
        "\n",
        "\n",
        "\n",
        "\n",
        "\n",
        "\n"
      ],
      "metadata": {
        "id": "b55qYQMsZufg"
      }
    },
    {
      "cell_type": "code",
      "source": [
        "sena, senb = collect(expand(sera.subs(t, serb)), t), collect(expand(serb.subs(t, serc)), t)"
      ],
      "metadata": {
        "id": "dWSSILDLUTX5"
      },
      "execution_count": 17,
      "outputs": []
    },
    {
      "cell_type": "markdown",
      "source": [
        "\n",
        "\n",
        "1.   **Sustitución y expansión:**\n",
        "- \"(sera.subs(t, serb)\" sustituye $t$ en la serie de $sin(t)$ por la serie de (${t}$), dando la serie de $sin(e^{t})$\n",
        "-\"expand\" expande el resultado de esa sustitución.\n",
        "- \"collect\" organiza los términos de la serie resultante en potencias de $t$, simplificando la expresión.\n",
        "-\"sena\" guarda la serie resultante de $sin(e^{t})$\n",
        "-\"serb.subs(t, serc)\" sustituye \"t\" en la serie de ($e^{t}$) por la serie de $cos(t)$, dando la serie de ($e^{cos(t)}$)\n",
        "- \"expand\" y \"collect\" se aplican de manera similar a la anterior\n",
        "-\"senb\" guarda la serie resultante de ($e^{cos(t)}$)\n"
      ],
      "metadata": {
        "id": "FQVhMSNsdQZ3"
      }
    },
    {
      "cell_type": "code",
      "source": [
        "traa, trab = laplace_transform(sena, t, s), laplace_transform(senb, t, s)"
      ],
      "metadata": {
        "id": "yBq7iCIudPIz"
      },
      "execution_count": 18,
      "outputs": []
    },
    {
      "cell_type": "markdown",
      "source": [
        "\n",
        "\n",
        "1.   **Transformada de Laplace**\n",
        "- \"laplace_transform(sena, t, s)\" calcula la transformada de Laplace de la serie de $sin(e^{t})$  con respecto a $t$ y la variable de Laplace s.\n",
        "-\"traa\" guarda el resultado de esta transformada.\n",
        "- \"laplace_transform(senb, t, s)\" hace lo mismo para la serie de $e^{cos(t)}$\n",
        "-\"trab\" guarda el resultado de esta transformada.\n",
        "\n"
      ],
      "metadata": {
        "id": "BbbNSh9ffRZa"
      }
    },
    {
      "cell_type": "code",
      "source": [
        "md(f'''\\\\begin{{align*}}\n",
        "\\\\mathcal{{L}} {latex({a.subs(t, b)})} & {latex(traa[0])} \\\\\\\\\n",
        "\\\\mathcal{{L}} {latex({b.subs(t, c)})} & {latex(trab[0])}\n",
        "\\\\end{{align*}}''')"
      ],
      "metadata": {
        "colab": {
          "base_uri": "https://localhost:8080/",
          "height": 118
        },
        "id": "uN8wPNYHU2Eo",
        "outputId": "66775091-7e82-4fa5-ba6c-2e56d0b2d305"
      },
      "execution_count": 20,
      "outputs": [
        {
          "output_type": "execute_result",
          "data": {
            "text/plain": [
              "<IPython.core.display.Markdown object>"
            ],
            "text/markdown": "\\begin{align*}\n\\mathcal{L} \\left\\{\\sin{\\left(e^{t} \\right)}\\right\\} & \\frac{101}{120 s} + \\frac{13}{24 s^{2}} - \\frac{7}{24 s^{3}} - \\frac{59}{24 s^{4}} - \\frac{175}{24 s^{5}} - \\frac{323}{24 s^{6}} + \\frac{233}{24 s^{7}} + \\frac{287}{s^{8}} + \\frac{13013}{6 s^{9}} + \\frac{26103}{2 s^{10}} + \\frac{143535}{2 s^{11}} + \\frac{753599}{2 s^{12}} + \\frac{3847767}{2 s^{13}} + \\frac{19266247}{2 s^{14}} + \\frac{94937843}{2 s^{15}} + \\frac{230397167}{s^{16}} + \\frac{1100596497}{s^{17}} + \\frac{5164404245}{s^{18}} + \\frac{23736009297}{s^{19}} + \\frac{106457007657}{s^{20}} + \\frac{463789707381}{s^{21}} + \\frac{1951757072265}{s^{22}} + \\frac{7879319108661}{s^{23}} + \\frac{30254159523588}{s^{24}} + \\frac{109280525337984}{s^{25}} + \\frac{365935843649376}{s^{26}} + \\frac{1113006758944080}{s^{27}} + \\frac{2982608000091720}{s^{28}} + \\frac{6696799094545560}{s^{29}} + \\frac{11423951396577720}{s^{30}} + \\frac{11423951396577720}{s^{31}} \\\\\n\\mathcal{L} \\left\\{e^{\\cos{\\left(t \\right)}}\\right\\} & \\frac{1957}{720 s} - \\frac{163}{60 s^{3}} + \\frac{1301}{120 s^{5}} - \\frac{10001}{120 s^{7}} + \\frac{7945}{8 s^{9}} - \\frac{64855}{4 s^{11}} + \\frac{1330175}{4 s^{13}} - \\frac{16025009}{2 s^{15}} + \\frac{430054625}{2 s^{17}} - \\frac{6161311156}{s^{19}} + \\frac{182135928975}{s^{21}} - \\frac{5392819096665}{s^{23}} + \\frac{155539568138955}{s^{25}} - \\frac{4244119874344350}{s^{27}} + \\frac{105868515097595250}{s^{29}} - \\frac{2307638182108699440}{s^{31}} + \\frac{41080529222093481120}{s^{33}} - \\frac{529797169967688342720}{s^{35}} + \\frac{3708580189773818399040}{s^{37}}\n\\end{align*}"
          },
          "metadata": {},
          "execution_count": 20
        }
      ]
    },
    {
      "cell_type": "markdown",
      "source": [
        "\n",
        "\n",
        "1.   **Formato y despliegue:**\n",
        "- \"{latex({a.subs(t, b)})}\" convierte la expresión $sin(e^{t})$ a formato LaTeX.\n",
        "- \"{latex(traa[0])}\" convierte el resultado de la transformada de Laplace de $sin(e^{t})$ a formato LaTeX.\n",
        "-\"{latex({b.subs(t, c)})}\" convierte la expresión $e^{cos(t)}$ a formato LaTeX.\n",
        "-\"{latex(trab[0])}\" convierte el resultado de la transformada de Laplace de $e^{cos(t)}$ a formato LaTeX.\n",
        "-\"md\" usa el módulo \"MarKdown\" para mostrar los resultados fromateados en MarKdown\n",
        "\n",
        "\n"
      ],
      "metadata": {
        "id": "p0hXOPytgUbt"
      }
    },
    {
      "cell_type": "markdown",
      "source": [
        "**Resultados**"
      ],
      "metadata": {
        "id": "m3JFQKMRkdpq"
      }
    },
    {
      "cell_type": "markdown",
      "source": [
        "\\begin{align*}\n",
        "\\mathcal{L} \\left\\{\\sin{\\left(e^{t} \\right)}\\right\\} & \\frac{101}{120 s} + \\frac{13}{24 s^{2}} - \\frac{7}{24 s^{3}} - \\frac{59}{24 s^{4}} - \\frac{175}{24 s^{5}} - \\frac{323}{24 s^{6}} + \\frac{233}{24 s^{7}} + \\frac{287}{s^{8}} + \\frac{13013}{6 s^{9}} + \\frac{26103}{2 s^{10}} + \\frac{143535}{2 s^{11}} + \\frac{753599}{2 s^{12}} + \\frac{3847767}{2 s^{13}} + \\frac{19266247}{2 s^{14}} + \\frac{94937843}{2 s^{15}} + \\frac{230397167}{s^{16}} + \\frac{1100596497}{s^{17}} + \\frac{5164404245}{s^{18}} + \\frac{23736009297}{s^{19}} + \\frac{106457007657}{s^{20}} + \\frac{463789707381}{s^{21}} + \\frac{1951757072265}{s^{22}} + \\frac{7879319108661}{s^{23}} + \\frac{30254159523588}{s^{24}} + \\frac{109280525337984}{s^{25}} + \\frac{365935843649376}{s^{26}} + \\frac{1113006758944080}{s^{27}} + \\frac{2982608000091720}{s^{28}} + \\frac{6696799094545560}{s^{29}} + \\frac{11423951396577720}{s^{30}} + \\frac{11423951396577720}{s^{31}} \\\\\n",
        "\\mathcal{L} \\left\\{e^{\\cos{\\left(t \\right)}}\\right\\} & \\frac{1957}{720 s} - \\frac{163}{60 s^{3}} + \\frac{1301}{120 s^{5}} - \\frac{10001}{120 s^{7}} + \\frac{7945}{8 s^{9}} - \\frac{64855}{4 s^{11}} + \\frac{1330175}{4 s^{13}} - \\frac{16025009}{2 s^{15}} + \\frac{430054625}{2 s^{17}} - \\frac{6161311156}{s^{19}} + \\frac{182135928975}{s^{21}} - \\frac{5392819096665}{s^{23}} + \\frac{155539568138955}{s^{25}} - \\frac{4244119874344350}{s^{27}} + \\frac{105868515097595250}{s^{29}} - \\frac{2307638182108699440}{s^{31}} + \\frac{41080529222093481120}{s^{33}} - \\frac{529797169967688342720}{s^{35}} + \\frac{3708580189773818399040}{s^{37}}\n",
        "\\end{align*}"
      ],
      "metadata": {
        "id": "yL7IRUCokN01"
      }
    }
  ]
}